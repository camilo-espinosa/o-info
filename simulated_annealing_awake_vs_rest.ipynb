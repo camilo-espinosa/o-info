{
 "cells": [
  {
   "cell_type": "markdown",
   "id": "ad08b4ad",
   "metadata": {},
   "source": [
    "If running on google colab, uncomment this cell to install thoi"
   ]
  },
  {
   "cell_type": "code",
   "execution_count": null,
   "id": "3b914707",
   "metadata": {},
   "outputs": [],
   "source": [
    "#!pip install thoi"
   ]
  },
  {
   "cell_type": "code",
   "execution_count": 1,
   "id": "868d2891",
   "metadata": {},
   "outputs": [],
   "source": [
    "import scipy.io\n",
    "import torch\n",
    "from thoi.measures.gaussian_copula import multi_order_measures, nplets_measures\n",
    "from thoi.heuristics import simulated_annealing, greedy, simulated_annealing_multi_order\n",
    "import seaborn as sns\n",
    "import matplotlib.pyplot as plt\n",
    "import numpy as np\n",
    "import pandas as pd\n",
    "from functools import partial\n",
    "import time\n",
    "import os\n",
    "import sys\n",
    "import zipfile\n",
    "import urllib.request\n",
    "device = \"cuda\" if torch.cuda.is_available() else \"cpu\""
   ]
  },
  {
   "cell_type": "markdown",
   "id": "dfd64f7d",
   "metadata": {},
   "source": [
    "Helper Functions"
   ]
  },
  {
   "cell_type": "code",
   "execution_count": 2,
   "id": "b02a136c",
   "metadata": {},
   "outputs": [],
   "source": [
    "def print_time(t_i, t_f):\n",
    "    elapsed_time_seconds = t_f - t_i\n",
    "    hours = int(elapsed_time_seconds // 3600)\n",
    "    minutes = int((elapsed_time_seconds % 3600) // 60)\n",
    "    seconds = int(elapsed_time_seconds % 60)\n",
    "    print(\"Elapsed time: {:02d}:{:02d}:{:02d}\".format(hours, minutes, seconds))"
   ]
  },
  {
   "cell_type": "markdown",
   "id": "473eb2b2",
   "metadata": {},
   "source": [
    "## Data"
   ]
  },
  {
   "cell_type": "markdown",
   "id": "82feb794",
   "metadata": {},
   "source": [
    "We use freely available data from [![DOI](https://zenodo.org/badge/DOI/10.5281/zenodo.10572216.svg)](https://zenodo.org/records/10572216)\n",
    "\n"
   ]
  },
  {
   "cell_type": "code",
   "execution_count": 3,
   "id": "8a68f745",
   "metadata": {},
   "outputs": [
    {
     "name": "stdout",
     "output_type": "stream",
     "text": [
      "✅ Dataset already extracted at: d:\\Camilo\\Brain_Entropy\\CODES\\repo\\o-info\\cmha_data\\cmha-1.0.0\n"
     ]
    }
   ],
   "source": [
    "# --- Detect environment ---\n",
    "if \"google.colab\" in sys.modules:\n",
    "    base_path = \"/content/cmha_data\"\n",
    "else:\n",
    "    base_path = os.path.join(os.getcwd(), \"cmha_data\")\n",
    "\n",
    "os.makedirs(base_path, exist_ok=True)\n",
    "\n",
    "url = \"https://zenodo.org/records/10572216/files/cmha-1.0.0.zip?download=1\"\n",
    "zip_path = os.path.join(base_path, \"cmha-1.0.0.zip\")\n",
    "expected_folder = os.path.join(base_path, \"cmha-1.0.0\")\n",
    "\n",
    "# --- Check if already extracted ---\n",
    "if os.path.exists(expected_folder):\n",
    "    print(f\"✅ Dataset already extracted at: {expected_folder}\")\n",
    "else:\n",
    "    # --- Download if missing ---\n",
    "    if not os.path.exists(zip_path):\n",
    "        print(f\"Downloading dataset from Zenodo to {zip_path}...\")\n",
    "        urllib.request.urlretrieve(url, zip_path)\n",
    "        print(\"Download complete.\")\n",
    "    else:\n",
    "        print(\"✅ Zip file already exists, skipping download.\")\n",
    "\n",
    "    # --- Extract ---\n",
    "    print(\"Extracting files...\")\n",
    "    with zipfile.ZipFile(zip_path, \"r\") as zip_ref:\n",
    "        zip_ref.extractall(base_path)\n",
    "    print(\"\\nData extracted at:\", base_path)"
   ]
  },
  {
   "cell_type": "code",
   "execution_count": 4,
   "id": "1ec1074a",
   "metadata": {},
   "outputs": [
    {
     "name": "stdout",
     "output_type": "stream",
     "text": [
      "Subjects were recorded under 6 states ['awake' 'ketamine' 'moderate-propofol' 'deep-propofol'\n",
      " 'moderate-sevoflurane' 'deep-sevoflurane']\n",
      "\n",
      "\n",
      "Data shape (156, 500, 82) indicates that there are 156 records from 82 brain regions with 500 samples each\n"
     ]
    }
   ],
   "source": [
    "# Load record information\n",
    "record_metadata = pd.read_csv(f\"{base_path}/cmha-1.0.0/data/participants.tsv\",delimiter='\\t')\n",
    "# Load fMRI records\n",
    "data_CoCoMAC = np.load(f\"{base_path}/cmha-1.0.0/data/CoCoMac/timeseries.npy\")\n",
    "\n",
    "print(\"Subjects were recorded under 6 states\",record_metadata['cond'].unique())\n",
    "record_metadata.head(5)\n",
    "print(\"\\n\")\n",
    "print(f\"Data shape {data_CoCoMAC.shape} indicates that there are 156 records from 82 brain regions with 500 samples each\")"
   ]
  },
  {
   "cell_type": "markdown",
   "id": "efbebd74",
   "metadata": {},
   "source": [
    "We can store all the information in a dictionary for ease of access"
   ]
  },
  {
   "cell_type": "code",
   "execution_count": 11,
   "id": "a6b925ac",
   "metadata": {},
   "outputs": [],
   "source": [
    "all_states = {}\n",
    "\n",
    "for state_name in record_metadata['cond'].unique():\n",
    "    all_states[state_name] = {}\n",
    "    state_df = record_metadata.query(\"cond==@state_name\")\n",
    "    sub_idx = 1\n",
    "    for idx, row in state_df.iterrows():\n",
    "        all_states[row.cond][sub_idx] = data_CoCoMAC[idx]\n",
    "        sub_idx+=1\n",
    "\n",
    "    "
   ]
  },
  {
   "cell_type": "code",
   "execution_count": 12,
   "id": "47d2ab11",
   "metadata": {},
   "outputs": [
    {
     "name": "stdout",
     "output_type": "stream",
     "text": [
      "(31, 500, 82) \n",
      " (25, 500, 82) \n",
      " (20, 500, 82) \n",
      " (25, 500, 82) \n",
      " (30, 500, 82) \n",
      " (25, 500, 82)\n"
     ]
    }
   ],
   "source": [
    "for state_name, state_dict in all_states.items():\n",
    "    state_data = np.stack([state_dict[k] for k in state_dict.keys()], axis=0) # take all awake records\n",
    "    all_states[state_name] = state_data\n",
    "    \n",
    "ts_aw = all_states[\"awake\"]\n",
    "ts_keta = all_states[\"ketamine\"]\n",
    "ts_lpp = all_states[\"moderate-propofol\"]\n",
    "ts_dpp = all_states[\"deep-propofol\"]\n",
    "ts_selv2 = all_states[\"moderate-sevoflurane\"]\n",
    "ts_selv4 = all_states[\"deep-sevoflurane\"]\n",
    "\n",
    "print(ts_aw.shape,   \"\\n\",\n",
    "      ts_selv2.shape,\"\\n\",\n",
    "      ts_selv4.shape,\"\\n\",\n",
    "      ts_lpp.shape,  \"\\n\",\n",
    "      ts_dpp.shape,  \"\\n\",\n",
    "      ts_keta.shape)"
   ]
  },
  {
   "cell_type": "markdown",
   "id": "65380871",
   "metadata": {},
   "source": [
    "This is the function to minimize with Simmulated Annealing. We feed it to : *simulated_annealing(metric=weighted_sum)*. \n",
    "\n",
    "It takes the selected metric (between DTC, TC, O and S; in this case O) for each batch and calculates Cohen's d between awake and All the other states in terms of O-Information."
   ]
  },
  {
   "cell_type": "code",
   "execution_count": 13,
   "id": "14c90b3c",
   "metadata": {},
   "outputs": [],
   "source": [
    "\n",
    "def weighted_sum(batched_measures):\n",
    "    \"\"\"\n",
    "    Weighted sum of Cohen's d values across different altered states.\n",
    "\n",
    "    Args:\n",
    "        batched_measures (torch.Tensor): Shape (batch_size, S, 4), where:\n",
    "            - batch_size: Number of n-plets in the batch.\n",
    "            - S: Number of subjects.\n",
    "            - 4: Measures (TC, DTC, O, S).\n",
    "\n",
    "    Returns:\n",
    "        torch.Tensor: Weighted sum of Cohen's d values (batch_size,).\n",
    "    \"\"\"\n",
    "    # Drug groups' sizes and cumulative sums. Awake has 24 subjects (check previous cell)\n",
    "    sizes = torch.tensor(\n",
    "        [24, 22, 21, 23, 18, 11], dtype=torch.float32, device=batched_measures.device\n",
    "    )\n",
    "    cumsum = torch.cumsum(\n",
    "        sizes, dim=0\n",
    "    ).long()  \n",
    "    weights = sizes[1:] / sizes[1:].sum()\n",
    "\n",
    "    # Awake group (first 24 subjects)\n",
    "    o_Awake = batched_measures[:, :24, 2]  # Extract O-information for awake state\n",
    "\n",
    "    mean_Awake = o_Awake.mean(dim=1)\n",
    "    std_Awake = o_Awake.std(dim=1, unbiased=True)\n",
    "    F = torch.zeros(\n",
    "        batched_measures.shape[0], device=batched_measures.device\n",
    "    )\n",
    "\n",
    "    start = 24  # Start index after awake\n",
    "    for w, end in zip(weights, cumsum[1:]):  # Skip the first (awake) weight\n",
    "        o_Drug = batched_measures[:, start:end, 2]\n",
    "        mean_Drug = o_Drug.mean(dim=1)\n",
    "        std_Drug = o_Drug.std(dim=1, unbiased=True)\n",
    "        pooled_std = torch.sqrt(\n",
    "            ((o_Awake.size(1) - 1) * std_Awake**2 + (o_Drug.size(1) - 1) * std_Drug**2)\n",
    "            / (o_Awake.size(1) + o_Drug.size(1) - 2)\n",
    "        )\n",
    "        cohen_d = (mean_Drug - mean_Awake) / pooled_std\n",
    "        F += w * cohen_d # w is the weight corresponding to this state, more subjects -> higher w\n",
    "        start = int(end) \n",
    "    return F"
   ]
  },
  {
   "cell_type": "code",
   "execution_count": 14,
   "id": "e44a9fe1",
   "metadata": {},
   "outputs": [
    {
     "name": "stdout",
     "output_type": "stream",
     "text": [
      "order 2 batch_size: 1000\n"
     ]
    },
    {
     "name": "stderr",
     "output_type": "stream",
     "text": [
      "mean(weighted_sum) = -0.6810764074325562 - ES: 99:  26%|██▋       | 264/1000 [00:04<00:11, 63.92it/s]2025-10-17 12:18:39,751 - INFO - Early stop reached\n",
      "                                                                                                     \r"
     ]
    },
    {
     "name": "stdout",
     "output_type": "stream",
     "text": [
      "Min done, order 2\n",
      "Elapsed time: 00:00:04\n"
     ]
    },
    {
     "name": "stderr",
     "output_type": "stream",
     "text": [
      "mean(weighted_sum) = 0.6759878396987915 - ES: 99:  28%|██▊       | 276/1000 [00:04<00:12, 58.81it/s]2025-10-17 12:18:44,667 - INFO - Early stop reached\n",
      "                                                                                                    \r"
     ]
    },
    {
     "name": "stdout",
     "output_type": "stream",
     "text": [
      "Max done, order: 2\n",
      "Elapsed time: 00:00:04\n",
      "Total elapsed time:\n",
      "Elapsed time: 00:00:09\n",
      "order 3 batch_size: 1000\n"
     ]
    },
    {
     "name": "stderr",
     "output_type": "stream",
     "text": [
      "mean(weighted_sum) = -1.9140690565109253 - ES: 99:  36%|███▌      | 361/1000 [00:06<00:10, 60.63it/s]2025-10-17 12:18:51,278 - INFO - Early stop reached\n",
      "                                                                                                     \r"
     ]
    },
    {
     "name": "stdout",
     "output_type": "stream",
     "text": [
      "Min done, order 3\n",
      "Elapsed time: 00:00:06\n"
     ]
    },
    {
     "name": "stderr",
     "output_type": "stream",
     "text": [
      "mean(weighted_sum) = 1.0330827236175537 - ES: 99:  14%|█▎        | 135/1000 [00:02<00:13, 63.54it/s]2025-10-17 12:18:53,906 - INFO - Early stop reached\n",
      "                                                                                                    \r"
     ]
    },
    {
     "name": "stdout",
     "output_type": "stream",
     "text": [
      "Max done, order: 3\n",
      "Elapsed time: 00:00:02\n",
      "Total elapsed time:\n",
      "Elapsed time: 00:00:18\n",
      "order 4 batch_size: 1000\n"
     ]
    },
    {
     "name": "stderr",
     "output_type": "stream",
     "text": [
      "mean(weighted_sum) = -1.766396403312683 - ES: 99:  39%|███▉      | 389/1000 [00:06<00:10, 60.78it/s] 2025-10-17 12:19:00,644 - INFO - Early stop reached\n",
      "                                                                                                    \r"
     ]
    },
    {
     "name": "stdout",
     "output_type": "stream",
     "text": [
      "Min done, order 4\n",
      "Elapsed time: 00:00:06\n"
     ]
    },
    {
     "name": "stderr",
     "output_type": "stream",
     "text": [
      "mean(weighted_sum) = 1.032080888748169 - ES: 99:  30%|███       | 301/1000 [00:04<00:11, 61.40it/s] 2025-10-17 12:19:05,937 - INFO - Early stop reached\n",
      "                                                                                                   \r"
     ]
    },
    {
     "name": "stdout",
     "output_type": "stream",
     "text": [
      "Max done, order: 4\n",
      "Elapsed time: 00:00:05\n",
      "Total elapsed time:\n",
      "Elapsed time: 00:00:30\n",
      "order 5 batch_size: 1000\n"
     ]
    },
    {
     "name": "stderr",
     "output_type": "stream",
     "text": [
      "mean(weighted_sum) = -1.7875678539276123 - ES: 99:  26%|██▋       | 264/1000 [00:04<00:12, 59.20it/s]2025-10-17 12:19:10,942 - INFO - Early stop reached\n",
      "                                                                                                     \r"
     ]
    },
    {
     "name": "stdout",
     "output_type": "stream",
     "text": [
      "Min done, order 5\n",
      "Elapsed time: 00:00:04\n"
     ]
    },
    {
     "name": "stderr",
     "output_type": "stream",
     "text": [
      "mean(weighted_sum) = 0.6907975077629089 - ES: 99:  14%|█▍        | 140/1000 [00:02<00:12, 67.05it/s]2025-10-17 12:19:13,560 - INFO - Early stop reached\n",
      "                                                                                                    \r"
     ]
    },
    {
     "name": "stdout",
     "output_type": "stream",
     "text": [
      "Max done, order: 5\n",
      "Elapsed time: 00:00:02\n",
      "Total elapsed time:\n",
      "Elapsed time: 00:00:38\n",
      "order 6 batch_size: 1000\n"
     ]
    },
    {
     "name": "stderr",
     "output_type": "stream",
     "text": [
      "mean(weighted_sum) = -1.7299342155456543 - ES: 99:  27%|██▋       | 274/1000 [00:04<00:12, 57.67it/s]2025-10-17 12:19:18,301 - INFO - Early stop reached\n",
      "                                                                                                     \r"
     ]
    },
    {
     "name": "stdout",
     "output_type": "stream",
     "text": [
      "Min done, order 6\n",
      "Elapsed time: 00:00:04\n"
     ]
    },
    {
     "name": "stderr",
     "output_type": "stream",
     "text": [
      "mean(weighted_sum) = 0.7711973190307617 - ES: 99:  18%|█▊        | 183/1000 [00:02<00:12, 66.58it/s]2025-10-17 12:19:21,509 - INFO - Early stop reached\n",
      "                                                                                                    \r"
     ]
    },
    {
     "name": "stdout",
     "output_type": "stream",
     "text": [
      "Max done, order: 6\n",
      "Elapsed time: 00:00:03\n",
      "Total elapsed time:\n",
      "Elapsed time: 00:00:46\n",
      "order 7 batch_size: 1000\n"
     ]
    },
    {
     "name": "stderr",
     "output_type": "stream",
     "text": [
      "mean(weighted_sum) = -1.9873721599578857 - ES: 99:  26%|██▌       | 259/1000 [00:04<00:11, 65.57it/s]2025-10-17 12:19:26,014 - INFO - Early stop reached\n",
      "                                                                                                     \r"
     ]
    },
    {
     "name": "stdout",
     "output_type": "stream",
     "text": [
      "Min done, order 7\n",
      "Elapsed time: 00:00:04\n"
     ]
    },
    {
     "name": "stderr",
     "output_type": "stream",
     "text": [
      "mean(weighted_sum) = 0.7729606628417969 - ES: 99:  32%|███▏      | 315/1000 [00:04<00:10, 64.64it/s] 2025-10-17 12:19:31,371 - INFO - Early stop reached\n",
      "                                                                                                    \r"
     ]
    },
    {
     "name": "stdout",
     "output_type": "stream",
     "text": [
      "Max done, order: 7\n",
      "Elapsed time: 00:00:05\n",
      "Total elapsed time:\n",
      "Elapsed time: 00:00:56\n",
      "order 8 batch_size: 1000\n"
     ]
    },
    {
     "name": "stderr",
     "output_type": "stream",
     "text": [
      "mean(weighted_sum) = -1.921909213066101 - ES: 99:  22%|██▏       | 222/1000 [00:03<00:12, 62.83it/s]2025-10-17 12:19:35,453 - INFO - Early stop reached\n",
      "                                                                                                    \r"
     ]
    },
    {
     "name": "stdout",
     "output_type": "stream",
     "text": [
      "Min done, order 8\n",
      "Elapsed time: 00:00:04\n"
     ]
    },
    {
     "name": "stderr",
     "output_type": "stream",
     "text": [
      "mean(weighted_sum) = 0.12891258299350739 - ES: 99:  24%|██▍       | 244/1000 [00:04<00:12, 60.77it/s] 2025-10-17 12:19:39,868 - INFO - Early stop reached\n",
      "                                                                                                     \r"
     ]
    },
    {
     "name": "stdout",
     "output_type": "stream",
     "text": [
      "Max done, order: 8\n",
      "Elapsed time: 00:00:04\n",
      "Total elapsed time:\n",
      "Elapsed time: 00:01:04\n",
      "order 9 batch_size: 1000\n"
     ]
    },
    {
     "name": "stderr",
     "output_type": "stream",
     "text": [
      "mean(weighted_sum) = -1.9319581985473633 - ES: 99:  13%|█▎        | 133/1000 [00:02<00:14, 61.23it/s]2025-10-17 12:19:42,534 - INFO - Early stop reached\n",
      "                                                                                                     \r"
     ]
    },
    {
     "name": "stdout",
     "output_type": "stream",
     "text": [
      "Min done, order 9\n",
      "Elapsed time: 00:00:02\n"
     ]
    },
    {
     "name": "stderr",
     "output_type": "stream",
     "text": [
      "mean(weighted_sum) = 0.45430076122283936 - ES: 99:  20%|██        | 205/1000 [00:03<00:14, 55.84it/s]2025-10-17 12:19:46,357 - INFO - Early stop reached\n",
      "                                                                                                     "
     ]
    },
    {
     "name": "stdout",
     "output_type": "stream",
     "text": [
      "Max done, order: 9\n",
      "Elapsed time: 00:00:03\n",
      "Total elapsed time:\n",
      "Elapsed time: 00:01:11\n"
     ]
    },
    {
     "name": "stderr",
     "output_type": "stream",
     "text": [
      "\r"
     ]
    }
   ],
   "source": [
    "n_repeats = 2 # ideally bigger\n",
    "batch_size = 1000\n",
    "X = torch.tensor(np.vstack([ts_aw, ts_keta, ts_lpp, ts_dpp, ts_selv2, ts_selv4])) # we feed the states of interest\n",
    "T = [X.shape[1]] * X.shape[0]\n",
    "\n",
    "cohen_list = []\n",
    "t_i_general = time.time()\n",
    "for order in range(2, 10):\n",
    "    t_i = time.time()\n",
    "    print(\"order\", order, \"batch_size:\", batch_size)\n",
    "    min_nplet, min_scores = simulated_annealing(\n",
    "        X=X,\n",
    "        order=order,\n",
    "        device=device,\n",
    "        T=T,\n",
    "        largest=False,\n",
    "        metric=weighted_sum, # Pass the custom metric\n",
    "        repeat=n_repeats,\n",
    "        batch_size=batch_size,\n",
    "    )\n",
    "    t_f = time.time()\n",
    "    print(f\"Min done, order {order}\")\n",
    "    print_time(t_i, t_f)\n",
    "    a_ = min_nplet[min_scores.argmin().item()].detach().cpu().tolist()\n",
    "    a_.sort()\n",
    "    b_ = min_scores[min_scores.argmin().item()].detach().cpu().tolist()\n",
    "    cohen_list.append([\"min\", order, a_, b_])\n",
    "    torch.cuda.empty_cache()\n",
    "    t_i = time.time()\n",
    "    max_nplet, max_scores = simulated_annealing(\n",
    "        X=X,\n",
    "        order=order,\n",
    "        device=device,\n",
    "        T=T,\n",
    "        largest=True,\n",
    "        metric=weighted_sum,  # Pass the custom metric\n",
    "        repeat=n_repeats,\n",
    "        batch_size=batch_size,\n",
    "    )\n",
    "    t_f = time.time()\n",
    "    print(f\"Max done, order: {order}\")\n",
    "    print_time(t_i, t_f)\n",
    "    a_ = max_nplet[max_scores.argmax().item()].detach().cpu().tolist()\n",
    "    a_.sort()\n",
    "    b_ = max_scores[max_scores.argmax().item()].detach().cpu().tolist()\n",
    "    cohen_list.append([\"max\", order, a_, b_])\n",
    "    torch.cuda.empty_cache()\n",
    "    print(\"Total elapsed time:\")\n",
    "    print_time(t_i_general, t_f)\n",
    "\n",
    "    cols = [\"task\", \"order\", \"best_nplet\", \"best_score\"]\n",
    "    cohen_df = pd.DataFrame(cohen_list, columns=cols)\n",
    "    cohen_df.to_csv(f\"weighted_sum_df.csv\", index=False)"
   ]
  },
  {
   "cell_type": "markdown",
   "id": "598442e0",
   "metadata": {},
   "source": [
    "Example results"
   ]
  },
  {
   "cell_type": "code",
   "execution_count": 15,
   "id": "f19dede1",
   "metadata": {},
   "outputs": [
    {
     "data": {
      "text/html": [
       "<div>\n",
       "<style scoped>\n",
       "    .dataframe tbody tr th:only-of-type {\n",
       "        vertical-align: middle;\n",
       "    }\n",
       "\n",
       "    .dataframe tbody tr th {\n",
       "        vertical-align: top;\n",
       "    }\n",
       "\n",
       "    .dataframe thead th {\n",
       "        text-align: right;\n",
       "    }\n",
       "</style>\n",
       "<table border=\"1\" class=\"dataframe\">\n",
       "  <thead>\n",
       "    <tr style=\"text-align: right;\">\n",
       "      <th></th>\n",
       "      <th>task</th>\n",
       "      <th>order</th>\n",
       "      <th>best_nplet</th>\n",
       "      <th>best_score</th>\n",
       "    </tr>\n",
       "  </thead>\n",
       "  <tbody>\n",
       "    <tr>\n",
       "      <th>0</th>\n",
       "      <td>min</td>\n",
       "      <td>2</td>\n",
       "      <td>[16, 40]</td>\n",
       "      <td>-0.719932</td>\n",
       "    </tr>\n",
       "    <tr>\n",
       "      <th>1</th>\n",
       "      <td>max</td>\n",
       "      <td>2</td>\n",
       "      <td>[14, 70]</td>\n",
       "      <td>0.752547</td>\n",
       "    </tr>\n",
       "    <tr>\n",
       "      <th>2</th>\n",
       "      <td>min</td>\n",
       "      <td>3</td>\n",
       "      <td>[14, 38, 55]</td>\n",
       "      <td>-2.008146</td>\n",
       "    </tr>\n",
       "    <tr>\n",
       "      <th>3</th>\n",
       "      <td>max</td>\n",
       "      <td>3</td>\n",
       "      <td>[23, 27, 34]</td>\n",
       "      <td>1.048662</td>\n",
       "    </tr>\n",
       "    <tr>\n",
       "      <th>4</th>\n",
       "      <td>min</td>\n",
       "      <td>4</td>\n",
       "      <td>[22, 30, 54, 65]</td>\n",
       "      <td>-2.144248</td>\n",
       "    </tr>\n",
       "    <tr>\n",
       "      <th>5</th>\n",
       "      <td>max</td>\n",
       "      <td>4</td>\n",
       "      <td>[34, 62, 76, 81]</td>\n",
       "      <td>1.197190</td>\n",
       "    </tr>\n",
       "    <tr>\n",
       "      <th>6</th>\n",
       "      <td>min</td>\n",
       "      <td>5</td>\n",
       "      <td>[10, 23, 38, 49, 79]</td>\n",
       "      <td>-2.130950</td>\n",
       "    </tr>\n",
       "    <tr>\n",
       "      <th>7</th>\n",
       "      <td>max</td>\n",
       "      <td>5</td>\n",
       "      <td>[8, 60, 61, 62, 72]</td>\n",
       "      <td>0.762490</td>\n",
       "    </tr>\n",
       "    <tr>\n",
       "      <th>8</th>\n",
       "      <td>min</td>\n",
       "      <td>6</td>\n",
       "      <td>[14, 22, 32, 34, 64, 73]</td>\n",
       "      <td>-1.790727</td>\n",
       "    </tr>\n",
       "    <tr>\n",
       "      <th>9</th>\n",
       "      <td>max</td>\n",
       "      <td>6</td>\n",
       "      <td>[1, 21, 32, 45, 61, 68]</td>\n",
       "      <td>0.844267</td>\n",
       "    </tr>\n",
       "  </tbody>\n",
       "</table>\n",
       "</div>"
      ],
      "text/plain": [
       "  task  order                best_nplet  best_score\n",
       "0  min      2                  [16, 40]   -0.719932\n",
       "1  max      2                  [14, 70]    0.752547\n",
       "2  min      3              [14, 38, 55]   -2.008146\n",
       "3  max      3              [23, 27, 34]    1.048662\n",
       "4  min      4          [22, 30, 54, 65]   -2.144248\n",
       "5  max      4          [34, 62, 76, 81]    1.197190\n",
       "6  min      5      [10, 23, 38, 49, 79]   -2.130950\n",
       "7  max      5       [8, 60, 61, 62, 72]    0.762490\n",
       "8  min      6  [14, 22, 32, 34, 64, 73]   -1.790727\n",
       "9  max      6   [1, 21, 32, 45, 61, 68]    0.844267"
      ]
     },
     "execution_count": 15,
     "metadata": {},
     "output_type": "execute_result"
    }
   ],
   "source": [
    "cohen_df.head(10)"
   ]
  },
  {
   "cell_type": "code",
   "execution_count": 16,
   "id": "31a6929e",
   "metadata": {},
   "outputs": [
    {
     "data": {
      "text/plain": [
       "<Axes: xlabel='order', ylabel='best_score'>"
      ]
     },
     "execution_count": 16,
     "metadata": {},
     "output_type": "execute_result"
    },
    {
     "data": {
      "image/png": "[encoded data removed]",
      "text/plain": [
       "<Figure size 640x480 with 1 Axes>"
      ]
     },
     "metadata": {},
     "output_type": "display_data"
    }
   ],
   "source": [
    "sns.lineplot(cohen_df,x='order',y='best_score',hue='task')"
   ]
  },
  {
   "cell_type": "code",
   "execution_count": null,
   "id": "f9ef5ece",
   "metadata": {},
   "outputs": [],
   "source": []
  }
 ],
 "metadata": {
  "kernelspec": {
   "display_name": ".venv_o_info",
   "language": "python",
   "name": "python3"
  },
  "language_info": {
   "codemirror_mode": {
    "name": "ipython",
    "version": 3
   },
   "file_extension": ".py",
   "mimetype": "text/x-python",
   "name": "python",
   "nbconvert_exporter": "python",
   "pygments_lexer": "ipython3",
   "version": "3.11.9"
  }
 },
 "nbformat": 4,
 "nbformat_minor": 5
}
